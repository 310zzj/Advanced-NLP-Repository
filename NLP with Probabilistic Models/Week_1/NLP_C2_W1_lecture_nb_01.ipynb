{
 "cells": [
  {
   "cell_type": "markdown",
   "metadata": {},
   "source": [
    "# NLP Course 2 Week 1 Lesson : Building The Model - Lecture Exercise 01\n",
    "Estimated Time: 10 minutes\n",
    "<br>\n",
    "# Vocabulary Creation \n",
    "Create a tiny vocabulary from a tiny corpus\n",
    "<br>\n",
    "It's time to start small !\n",
    "<br>\n",
    "### Imports and Data"
   ]
  },
  {
   "cell_type": "code",
   "execution_count": 1,
   "metadata": {},
   "outputs": [],
   "source": [
    "# imports\n",
    "import re # regular expression library; for tokenization of words\n",
    "from collections import Counter # collections library; counter: dict subclass for counting hashable objects\n",
    "import matplotlib.pyplot as plt # for data visualization"
   ]
  },
  {
   "cell_type": "code",
   "execution_count": 2,
   "metadata": {},
   "outputs": [
    {
     "name": "stdout",
     "output_type": "stream",
     "text": [
      "red pink pink blue blue yellow ORANGE BLUE BLUE PINK\n",
      "string length :  52\n"
     ]
    }
   ],
   "source": [
    "# the tiny corpus of text ! \n",
    "text = 'red pink pink blue blue yellow ORANGE BLUE BLUE PINK' # 🌈\n",
    "print(text)\n",
    "print('string length : ',len(text))"
   ]
  },
  {
   "cell_type": "markdown",
   "metadata": {},
   "source": [
    "### Preprocessing"
   ]
  },
  {
   "cell_type": "code",
   "execution_count": 3,
   "metadata": {},
   "outputs": [
    {
     "name": "stdout",
     "output_type": "stream",
     "text": [
      "red pink pink blue blue yellow orange blue blue pink\n",
      "string length :  52\n"
     ]
    }
   ],
   "source": [
    "# convert all letters to lower case\n",
    "text_lowercase = text.lower()\n",
    "print(text_lowercase)\n",
    "print('string length : ',len(text_lowercase))"
   ]
  },
  {
   "cell_type": "code",
   "execution_count": 4,
   "metadata": {},
   "outputs": [
    {
     "name": "stdout",
     "output_type": "stream",
     "text": [
      "['red', 'pink', 'pink', 'blue', 'blue', 'yellow', 'orange', 'blue', 'blue', 'pink']\n",
      "count :  10\n"
     ]
    }
   ],
   "source": [
    "# some regex to tokenize the string to words and return them in a list\n",
    "words = re.findall(r'\\w+', text_lowercase)\n",
    "print(words)\n",
    "print('count : ',len(words))"
   ]
  },
  {
   "cell_type": "markdown",
   "metadata": {},
   "source": [
    "### Create Vocabulary\n",
    "Option 1 : A set of distinct words from the text"
   ]
  },
  {
   "cell_type": "code",
   "execution_count": 5,
   "metadata": {},
   "outputs": [
    {
     "name": "stdout",
     "output_type": "stream",
     "text": [
      "{'red', 'blue', 'pink', 'orange', 'yellow'}\n",
      "count :  5\n"
     ]
    }
   ],
   "source": [
    "# create vocab\n",
    "vocab = set(words)\n",
    "print(vocab)\n",
    "print('count : ',len(vocab))"
   ]
  },
  {
   "cell_type": "markdown",
   "metadata": {},
   "source": [
    "### Add Information with Word Counts\n",
    "Option 2 : Two alternatives for including the word count as well"
   ]
  },
  {
   "cell_type": "code",
   "execution_count": 6,
   "metadata": {},
   "outputs": [
    {
     "name": "stdout",
     "output_type": "stream",
     "text": [
      "{'red': 1, 'pink': 3, 'blue': 4, 'yellow': 1, 'orange': 1}\n",
      "count :  5\n"
     ]
    }
   ],
   "source": [
    "# create vocab including word count\n",
    "counts_a = dict()\n",
    "for w in words:\n",
    "    counts_a[w] = counts_a.get(w,0)+1\n",
    "print(counts_a)\n",
    "print('count : ',len(counts_a))"
   ]
  },
  {
   "cell_type": "code",
   "execution_count": 7,
   "metadata": {},
   "outputs": [
    {
     "name": "stdout",
     "output_type": "stream",
     "text": [
      "Counter({'blue': 4, 'pink': 3, 'red': 1, 'yellow': 1, 'orange': 1})\n",
      "count :  5\n"
     ]
    }
   ],
   "source": [
    "# create vocab including word count using collections.Counter\n",
    "counts_b = dict()\n",
    "counts_b = Counter(words)\n",
    "print(counts_b)\n",
    "print('count : ',len(counts_b))"
   ]
  },
  {
   "cell_type": "code",
   "execution_count": 8,
   "metadata": {},
   "outputs": [
    {
     "data": {
      "image/png": "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