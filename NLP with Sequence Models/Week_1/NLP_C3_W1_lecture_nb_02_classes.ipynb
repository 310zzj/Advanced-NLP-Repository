{
 "cells": [
  {
   "cell_type": "markdown",
   "metadata": {
    "colab_type": "text",
    "id": "09auMVU94i7h"
   },
   "source": [
    "# Classes and subclasses \n",
    "\n",
    "In this notebook, I will show you the basics of classes and subclasses in Python. As you've seen in the lectures from this week, `Trax` uses layer classes as building blocks for deep learning models, so it is important to understand how classes and subclasses behave in order to be able to build custom layers when needed. \n",
    "\n",
    "By completing this notebook, you will:\n",
    "\n",
    "- Be able to define classes and subclasses in Python\n",
    "- Understand how inheritance works in subclasses\n",
    "- Be able to work with instances"
   ]
  },
  {
   "cell_type": "markdown",
   "metadata": {
    "colab_type": "text",
    "id": "WHp7pMt44i7i"
   },
   "source": [
    "# Part 1: Parameters, methods and instances"
   ]
  },
  {
   "cell_type": "markdown",
   "metadata": {
    "colab_type": "text",
    "id": "e5z0Kqys4i7j"
   },
   "source": [
    "First, let's define a class `My_Class`. "
   ]
  },
  {
   "cell_type": "code",
   "execution_count": null,
   "metadata": {
    "colab": {},
    "colab_type": "code",
    "id": "H3M8x4WE4i7k"
   },
   "outputs": [],
   "source": [
    "class My_Class: #Definition of My_class\n",
    "    x = None    "
   ]
  },
  {
   "cell_type": "markdown",
   "metadata": {
    "colab_type": "text",
    "id": "6XNbqqxL4i7n"
   },
   "source": [
    "`My_Class`  has one parameter `x` without any value. You can think of parameters as the variables that every object assigned to a class will have. So, at this point, any object of class `My_Class` would have a variable `x` equal to `None`. To check this,  I'll create two instances of that class and get the value of `x` for both of them."
   ]
  },
  {
   "cell_type": "code",
   "execution_count": null,
   "metadata": {
    "colab": {},
    "colab_type": "code",
    "id": "OxYx84kn4i7p",
    "outputId": "f29186de-74c2-4c74-b635-79fa69321151"
   },
   "outputs": [],
   "source": [
    "instance_a= My_Class() #To create an instance from class \"My_Class\" you have to call \"My_Class\"\n",
    "instance_b= My_Class()\n",
    "print('Parameter x of instance_a: ' + str(instance_a.x)) #To get a parameter 'x' from an instance 'a', write 'a.x'\n",
    "print('Parameter x of instance_b: ' + str(instance_b.x))"
   ]
  },
  {
   "cell_type": "markdown",
   "metadata": {
    "colab_type": "text",
    "id": "1CTFn3ZA4i7t"
   },
   "source": [
    "For an existing instance you can assign new values for any of its parameters. In the next cell, assign a value of `5` to the parameter `x` of `instance_a`."
   ]
  },
  {
   "cell_type": "code",
   "execution_count": null,
   "metadata": {
    "colab": {},
    "colab_type": "code",
    "id": "r2ZNy-Ub4i7t",
    "outputId": "4df445d1-0fcc-454a-cf01-baba2ff3a7b1"
   },
   "outputs": [],
   "source": [
    "### START CODE HERE (1 line) ### \n",
    "instance_a.x = 5\n",
    "### END CODE HERE ###\n",
    "print('Parameter x of instance_a: ' + str(instance_a.x))"
   ]
  },
  {
   "cell_type": "markdown",
   "metadata": {
    "colab_type": "text",
    "id": "yBQhYI8G4i7w"
   },
   "source": [
    "## 1.1 The `__init__` method"
   ]
  },
  {
   "cell_type": "markdown",
   "metadata": {
    "colab_type": "text",
    "id": "kREmvDpU4i7w"
   },
   "source": [
    "When you want to assign values to the parameters of your class when an instance is created, it is necessary to define a special method: `__init__`. The `__init__` method is called when you create an instance of a class. It can have multiple arguments to initialize the paramenters of your instance. In the next cell I will define `My_Class` with an `__init__` method that takes the instance (`self`) and an argument `y` as inputs."
   ]
  },
  {
   "cell_type": "code",
   "execution_count": null,
   "metadata": {
    "colab": {},
    "colab_type": "code",
    "id": "u2sCpoQ44i7x"
   },
   "outputs": [],
   "source": [
    "class My_Class: \n",
    "    def __init__(self, y): # The __init__ method takes as input the instance to be initialized and a variable y\n",
    "        self.x = y         # Sets parameter x to be equal to y"
   ]
  },
  {
   "cell_type": "markdown",
   "metadata": {
    "colab_type": "text",
    "id": "uNW85gLZ4i7z"
   },
   "source": [
    "In this case, the parameter `x` of an instance from `My_Class` would take the value of an argument `y`. \n",
    "The argument `self` is used to pass information from the instance being created to the method `__init__`. In the next cell, create an instance `instance_c`, with `x` equal to `10`."
   ]
  },
  {
   "cell_type": "code",
   "execution_count": null,
   "metadata": {
    "colab": {},
    "colab_type": "code",
    "id": "q3HdL5gE4i7z",
    "outputId": "349f0a59-4eec-47b0-ef50-9a934a97139f"
   },
   "outputs": [],
   "source": [
    "### START CODE HERE (1 line) ### \n",
    "instance_c = My_Class(10)\n",
    "### END CODE HERE ###\n",
    "print('Parameter x of instance_c: ' + str(instance_c.x))"
   ]
  },
  {
   "cell_type": "markdown",
   "metadata": {
    "colab_type": "text",
    "id": "B7KAptyt4i72"
   },
   "source": [
    "Note that in this case, you had to pass the argument `y` from the `__init__` method to create an instance of `My_Class`."
   ]
  },
  {
   "cell_type": "markdown",
   "metadata": {
    "colab_type": "text",
    "id": "37ebsR2-4i72"
   },
   "source": [
    "## 1.2 The `__call__` method"
   ]
  },
  {
   "cell_type": "markdown",
   "metadata": {
    "colab_type": "text",
    "id": "cH9kLr4l4i73"
   },
   "source": [
    "Another important method is the `__call__` method. It is performed whenever you call an initialized instance of a class. It can have multiple arguments and you can define it to do whatever you want like\n",
    "\n",
    "- Change a parameter, \n",
    "- Print a message,\n",
    "- Create new variables, etc.\n",
    "\n",
    "In the next cell, I'll define `My_Class` with the same `__init__` method as before and with a `__call__` method that adds `z` to parameter `x` and prints the result."
   ]
  },
  {
   "cell_type": "code",
   "execution_count": null,
   "metadata": {
    "colab": {},
    "colab_type": "code",
    "id": "gKtdNTrF4i74"
   },
   "outputs": [],
   "source": [
    "class My_Class: \n",
    "    def __init__(self, y): # The __init__ method takes as input the instance to be initialized and a variable y\n",
    "        self.x = y         # Sets parameter x to be equal to y\n",
    "    def __call__(self, z): # __call__ method with self and z as arguments\n",
    "        self.x += z        # Adds z to parameter x when called \n",
    "        print(self.x)"
   ]
  },
  {
   "cell_type": "markdown",
   "metadata": {
    "colab_type": "text",
    "id": "DeAnAiWY4i77"
   },
   "source": [
    "Let’s create `instance_d` with `x` equal to 5."
   ]
  },
  {
   "cell_type": "code",
   "execution_count": null,
   "metadata": {
    "colab":